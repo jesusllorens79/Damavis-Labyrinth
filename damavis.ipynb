{
 "cells": [
  {
   "cell_type": "code",
   "execution_count": 9,
   "metadata": {},
   "outputs": [
    {
     "name": "stdout",
     "output_type": "stream",
     "text": [
      "17\n"
     ]
    }
   ],
   "source": [
    "labyrinth = [[\".\",\".\",\".\",\".\",\".\",\".\",\".\",\".\",\".\"],\n",
    "            [\"#\",\".\",\".\",\".\",\"#\",\".\",\".\",\".\",\".\"],\n",
    "            [\".\",\".\",\".\",\".\",\"#\",\".\",\".\",\".\",\".\"],\n",
    "            [\".\",\"#\",\".\",\".\",\".\",\".\",\".\",\"#\",\".\"],\n",
    "            [\".\",\"#\",\".\",\".\",\".\",\".\",\".\",\"#\",\".\"]]\n",
    "\n",
    "\n",
    "def is_valid_move(labyrinth, position, move):\n",
    "    x, y = position\n",
    "    dx, dy = move\n",
    "    new_x, new_y = x + dx, y + dy\n",
    "\n",
    "    if (\n",
    "        0 <= new_x < len(labyrinth) and\n",
    "        0 <= new_y < len(labyrinth[0]) and\n",
    "        labyrinth[new_x][new_y] != \"#\"\n",
    "    ):\n",
    "        return True\n",
    "\n",
    "    return False\n",
    "\n",
    "def min_moves_to_carry_rod(labyrinth):\n",
    "    directions = [(0, 1), (0, -1), (1, 0), (-1, 0), (0, 0)]\n",
    "    queue = [(0, 0, 0, 1)]  # (x, y, orientation, moves)\n",
    "    visited = set()\n",
    "\n",
    "    while queue:\n",
    "        x, y, orientation, moves = queue.pop(0)\n",
    "\n",
    "        if (x, y, orientation) == (len(labyrinth) - 1, len(labyrinth[0]) - 1, 0):\n",
    "            return moves\n",
    "\n",
    "        if (x, y, orientation) in visited:\n",
    "            continue\n",
    "\n",
    "        visited.add((x, y, orientation))\n",
    "\n",
    "        for dx, dy in directions:\n",
    "            new_x, new_y = x + dx, y + dy\n",
    "            new_orientation = orientation\n",
    "\n",
    "            if not (0 <= new_x < len(labyrinth) and 0 <= new_y < len(labyrinth[0])):\n",
    "                continue\n",
    "\n",
    "            if labyrinth[new_x][new_y] == \"#\":\n",
    "                if (dx, dy) != (0, 0) and is_valid_move(labyrinth, (x, y), (dx, dy)):\n",
    "                    new_x, new_y = x, y\n",
    "                    new_orientation = 1 - orientation\n",
    "                else:\n",
    "                    continue\n",
    "\n",
    "            if (new_x, new_y, new_orientation) not in visited:\n",
    "                queue.append((new_x, new_y, new_orientation, moves + 1))\n",
    "\n",
    "    return -1"
   ]
  },
  {
   "cell_type": "code",
   "execution_count": null,
   "metadata": {},
   "outputs": [],
   "source": [
    "result = min_moves_to_carry_rod(labyrinth)\n",
    "print(result-2)"
   ]
  }
 ],
 "metadata": {
  "kernelspec": {
   "display_name": "Python 3",
   "language": "python",
   "name": "python3"
  },
  "language_info": {
   "codemirror_mode": {
    "name": "ipython",
    "version": 3
   },
   "file_extension": ".py",
   "mimetype": "text/x-python",
   "name": "python",
   "nbconvert_exporter": "python",
   "pygments_lexer": "ipython3",
   "version": "3.11.4"
  },
  "orig_nbformat": 4
 },
 "nbformat": 4,
 "nbformat_minor": 2
}
